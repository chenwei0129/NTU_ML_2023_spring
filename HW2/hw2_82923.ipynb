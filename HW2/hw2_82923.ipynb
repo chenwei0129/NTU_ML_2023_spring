{
  "metadata": {
    "kernelspec": {
      "language": "python",
      "display_name": "Python 3",
      "name": "python3"
    },
    "language_info": {
      "name": "python",
      "version": "3.7.12",
      "mimetype": "text/x-python",
      "codemirror_mode": {
        "name": "ipython",
        "version": 3
      },
      "pygments_lexer": "ipython3",
      "nbconvert_exporter": "python",
      "file_extension": ".py"
    },
    "colab": {
      "provenance": []
    }
  },
  "nbformat_minor": 0,
  "nbformat": 4,
  "cells": [
    {
      "cell_type": "code",
      "source": [
        "import numpy as np\n",
        "import torch\n",
        "import random\n",
        "\n",
        "def same_seeds(seed):\n",
        "    random.seed(seed) \n",
        "    np.random.seed(seed)  \n",
        "    torch.manual_seed(seed)\n",
        "    if torch.cuda.is_available():\n",
        "        torch.cuda.manual_seed(seed)\n",
        "        torch.cuda.manual_seed_all(seed) \n",
        "    torch.backends.cudnn.benchmark = False\n",
        "    torch.backends.cudnn.deterministic = True"
      ],
      "metadata": {
        "_uuid": "8f2839f25d086af736a60e9eeb907d3b93b6e0e5",
        "_cell_guid": "b1076dfc-b9ad-4769-8c92-a6c4dae69d19",
        "execution": {
          "iopub.status.busy": "2023-03-21T09:11:57.569087Z",
          "iopub.execute_input": "2023-03-21T09:11:57.569674Z",
          "iopub.status.idle": "2023-03-21T09:12:00.147524Z",
          "shell.execute_reply.started": "2023-03-21T09:11:57.569640Z",
          "shell.execute_reply": "2023-03-21T09:12:00.146336Z"
        },
        "trusted": true,
        "id": "5mUUC_zW2xaF"
      },
      "execution_count": null,
      "outputs": []
    },
    {
      "cell_type": "code",
      "source": [
        "import os\n",
        "import torch\n",
        "from tqdm import tqdm\n",
        "\n",
        "def load_feat(path):\n",
        "    feat = torch.load(path)\n",
        "    return feat\n",
        "\n",
        "def shift(x, n):\n",
        "    if n < 0:\n",
        "        left = x[0].repeat(-n, 1)\n",
        "        right = x[:n]\n",
        "    elif n > 0:\n",
        "        right = x[-1].repeat(n, 1)\n",
        "        left = x[n:]\n",
        "    else:\n",
        "        return x\n",
        "\n",
        "    return torch.cat((left, right), dim=0)\n",
        "\n",
        "def concat_feat(x, concat_n):\n",
        "    assert concat_n % 2 == 1 # n must be odd\n",
        "    if concat_n < 2:\n",
        "        return x\n",
        "    seq_len, feature_dim = x.size(0), x.size(1)\n",
        "    x = x.repeat(1, concat_n) \n",
        "    x = x.view(seq_len, concat_n, feature_dim).permute(1, 0, 2) # concat_n, seq_len, feature_dim\n",
        "    mid = (concat_n // 2)\n",
        "    for r_idx in range(1, mid+1):\n",
        "        x[mid + r_idx, :] = shift(x[mid + r_idx], r_idx)\n",
        "        x[mid - r_idx, :] = shift(x[mid - r_idx], -r_idx)\n",
        "\n",
        "    return x.permute(1, 0, 2).view(seq_len, concat_n * feature_dim)\n",
        "\n",
        "def preprocess_data(split, feat_dir, phone_path, concat_nframes, train_ratio=0.8, random_seed=1213):\n",
        "    class_num = 41 # NOTE: pre-computed, should not need change\n",
        "\n",
        "    if split == 'train' or split == 'val':\n",
        "        mode = 'train'\n",
        "    elif split == 'test':\n",
        "        mode = 'test'\n",
        "    else:\n",
        "        raise ValueError('Invalid \\'split\\' argument for dataset: PhoneDataset!')\n",
        "\n",
        "    label_dict = {}\n",
        "    if mode == 'train':\n",
        "        for line in open(os.path.join(phone_path, f'{mode}_labels.txt')).readlines():\n",
        "            line = line.strip('\\n').split(' ')\n",
        "            label_dict[line[0]] = [int(p) for p in line[1:]]\n",
        "        \n",
        "        # split training and validation data\n",
        "        usage_list = open(os.path.join(phone_path, 'train_split.txt')).readlines()\n",
        "        #random.seed(random_seed)\n",
        "        #random.shuffle(usage_list)\n",
        "        train_len = int(len(usage_list) * train_ratio)\n",
        "        usage_list = usage_list[:train_len] if split == 'train' else usage_list[train_len:]\n",
        "\n",
        "    elif mode == 'test':\n",
        "        usage_list = open(os.path.join(phone_path, 'test_split.txt')).readlines()\n",
        "\n",
        "    usage_list = [line.strip('\\n') for line in usage_list]\n",
        "    print('[Dataset] - # phone classes: ' + str(class_num) + ', number of utterances for ' + split + ': ' + str(len(usage_list)))\n",
        "\n",
        "    max_len = 3000000\n",
        "    X = torch.empty(max_len, 39 * concat_nframes)\n",
        "    if mode == 'train':\n",
        "        y = torch.empty(max_len, dtype=torch.long)\n",
        "\n",
        "    idx = 0\n",
        "    for i, fname in tqdm(enumerate(usage_list)):\n",
        "        feat = load_feat(os.path.join(feat_dir, mode, f'{fname}.pt'))\n",
        "        cur_len = len(feat)\n",
        "        feat = concat_feat(feat, concat_nframes)\n",
        "        if mode == 'train':\n",
        "          label = torch.LongTensor(label_dict[fname])\n",
        "\n",
        "        X[idx: idx + cur_len, :] = feat\n",
        "        if mode == 'train':\n",
        "          y[idx: idx + cur_len] = label\n",
        "\n",
        "        idx += cur_len\n",
        "\n",
        "    X = X[:idx, :]\n",
        "    if mode == 'train':\n",
        "      y = y[:idx]\n",
        "\n",
        "    print(f'[INFO] {split} set')\n",
        "    print(X.shape)\n",
        "    if mode == 'train':\n",
        "      print(y.shape)\n",
        "      return X, y\n",
        "    else:\n",
        "      return X\n"
      ],
      "metadata": {
        "execution": {
          "iopub.status.busy": "2023-03-21T09:12:00.149762Z",
          "iopub.execute_input": "2023-03-21T09:12:00.150641Z",
          "iopub.status.idle": "2023-03-21T09:12:00.317338Z",
          "shell.execute_reply.started": "2023-03-21T09:12:00.150598Z",
          "shell.execute_reply": "2023-03-21T09:12:00.315080Z"
        },
        "trusted": true,
        "id": "rkLGbspf2xaJ"
      },
      "execution_count": null,
      "outputs": []
    },
    {
      "cell_type": "code",
      "source": [
        "import torch\n",
        "from torch.utils.data import Dataset\n",
        "\n",
        "class LibriDataset(Dataset):\n",
        "    def __init__(self, X, y=None):\n",
        "        self.data = X\n",
        "        if y is not None:\n",
        "            self.label = torch.LongTensor(y)\n",
        "        else:\n",
        "            self.label = None\n",
        "\n",
        "    def __getitem__(self, idx):\n",
        "        if self.label is not None:\n",
        "            return self.data[idx], self.label[idx]\n",
        "        else:\n",
        "            return self.data[idx]\n",
        "\n",
        "    def __len__(self):\n",
        "        return len(self.data)"
      ],
      "metadata": {
        "execution": {
          "iopub.status.busy": "2023-03-21T09:12:00.318963Z",
          "iopub.execute_input": "2023-03-21T09:12:00.319695Z",
          "iopub.status.idle": "2023-03-21T09:12:00.337800Z",
          "shell.execute_reply.started": "2023-03-21T09:12:00.319656Z",
          "shell.execute_reply": "2023-03-21T09:12:00.335685Z"
        },
        "trusted": true,
        "id": "OQhrYJhn2xaK"
      },
      "execution_count": null,
      "outputs": []
    },
    {
      "cell_type": "code",
      "source": [
        "import torch.nn as nn\n",
        "\n",
        "class BasicBlock(nn.Module):\n",
        "    def __init__(self, input_dim, output_dim):\n",
        "        super(BasicBlock, self).__init__()\n",
        "\n",
        "        # TODO: apply batch normalization and dropout for strong baseline.\n",
        "        # Reference: https://pytorch.org/docs/stable/generated/torch.nn.BatchNorm1d.html (batch normalization)\n",
        "        #       https://pytorch.org/docs/stable/generated/torch.nn.Dropout.html (dropout)\n",
        "        self.block = nn.Sequential(\n",
        "            nn.Linear(input_dim, output_dim),\n",
        "            nn.ReLU(),\n",
        "            nn.BatchNorm1d(output_dim),\n",
        "            nn.Dropout(0.45)\n",
        "        )\n",
        "\n",
        "    def forward(self, x):\n",
        "        x = self.block(x)\n",
        "        return x\n",
        "\n",
        "##ref:https://www.cnblogs.com/picassooo/p/12556293.html\n",
        "class LSTMnet(nn.Module):\n",
        "    def __init__(self, in_dim, hidden_dim, n_layer, n_class):\n",
        "        super(LSTMnet, self).__init__()\n",
        "        self.n_layer = n_layer\n",
        "        self.hidden_dim = hidden_dim\n",
        "        self.lstm = nn.LSTM(in_dim, hidden_dim, 3, batch_first=True, dropout=0.45, bidirectional=True)\n",
        "        self.fc = nn.Sequential(\n",
        "            BasicBlock(2*hidden_dim, hidden_dim),\n",
        "            *[BasicBlock(hidden_dim, hidden_dim) for _ in range(hidden_layers)],\n",
        "            nn.Linear(hidden_dim, n_class)\n",
        "        )\n",
        " \n",
        "    def forward(self, x):\n",
        "        out, _ = self.lstm(x)\n",
        "        out = self.fc(out)\n",
        "        return out\n",
        "\n",
        "\n",
        "class Classifier(nn.Module):\n",
        "    def __init__(self, input_dim, output_dim=41, hidden_layers=1, hidden_dim=256):\n",
        "        super(Classifier, self).__init__()\n",
        "\n",
        "        self.fc = nn.Sequential(\n",
        "            BasicBlock(input_dim, hidden_dim),\n",
        "            *[BasicBlock(hidden_dim, hidden_dim) for _ in range(hidden_layers)],\n",
        "            nn.Linear(hidden_dim, output_dim)\n",
        "        )\n",
        "\n",
        "    def forward(self, x):\n",
        "        x = self.fc(x)\n",
        "        return x\n"
      ],
      "metadata": {
        "execution": {
          "iopub.status.busy": "2023-03-21T09:12:00.343283Z",
          "iopub.execute_input": "2023-03-21T09:12:00.343831Z",
          "iopub.status.idle": "2023-03-21T09:12:00.362141Z",
          "shell.execute_reply.started": "2023-03-21T09:12:00.343801Z",
          "shell.execute_reply": "2023-03-21T09:12:00.360997Z"
        },
        "trusted": true,
        "id": "nm7pWsaD2xaK"
      },
      "execution_count": null,
      "outputs": []
    },
    {
      "cell_type": "code",
      "source": [
        "# data prarameters\n",
        "# TODO: change the value of \"concat_nframes\" for medium baseline\n",
        "concat_nframes = 1   # the number of frames to concat with, n must be odd (total 2k+1 = n frames)\n",
        "train_ratio = 0.95   # the ratio of data used for training, the rest will be used for validation\n",
        "\n",
        "# training parameters\n",
        "seed = 910226          # random seed\n",
        "batch_size = 1024        # batch size\n",
        "num_epoch = 35         # the number of training epoch\n",
        "change_lr_epoch = 30\n",
        "learning_rate = 1e-3      # learning rate\n",
        "model_path = './model.ckpt'  # the path where the checkpoint will be saved\n",
        "\n",
        "# model parameters\n",
        "# TODO: change the value of \"hidden_layers\" or \"hidden_dim\" for medium baseline\n",
        "input_dim = 39 * concat_nframes  # the input dim of the model, you should not change the value\n",
        "hidden_layers = 1          # the number of hidden layers\n",
        "hidden_dim = 280           # the hidden dim\n"
      ],
      "metadata": {
        "execution": {
          "iopub.status.busy": "2023-03-21T09:12:00.364070Z",
          "iopub.execute_input": "2023-03-21T09:12:00.364445Z",
          "iopub.status.idle": "2023-03-21T09:12:00.379560Z",
          "shell.execute_reply.started": "2023-03-21T09:12:00.364410Z",
          "shell.execute_reply": "2023-03-21T09:12:00.378250Z"
        },
        "trusted": true,
        "id": "7fbwKtNZ2xaL"
      },
      "execution_count": null,
      "outputs": []
    },
    {
      "cell_type": "code",
      "source": [
        "from torch.utils.data import DataLoader\n",
        "import gc\n",
        "\n",
        "same_seeds(seed)\n",
        "device = 'cuda' if torch.cuda.is_available() else 'cpu'\n",
        "print(f'DEVICE: {device}')\n",
        "\n",
        "# preprocess data\n",
        "train_X, train_y = preprocess_data(split='train', feat_dir='/kaggle/input/ml2023spring-hw2/libriphone/feat', phone_path='/kaggle/input/ml2023spring-hw2/libriphone', concat_nframes=concat_nframes, train_ratio=train_ratio, random_seed=seed)\n",
        "val_X, val_y = preprocess_data(split='val', feat_dir='/kaggle/input/ml2023spring-hw2/libriphone/feat', phone_path='/kaggle/input/ml2023spring-hw2/libriphone', concat_nframes=concat_nframes, train_ratio=train_ratio, random_seed=seed)\n",
        "\n",
        "# get dataset\n",
        "train_set = LibriDataset(train_X, train_y)\n",
        "val_set = LibriDataset(val_X, val_y)\n",
        "\n",
        "# remove raw feature to save memory\n",
        "del train_X, train_y, val_X, val_y\n",
        "gc.collect()\n",
        "\n",
        "# get dataloader\n",
        "train_loader = DataLoader(train_set, batch_size=batch_size, shuffle=False)\n",
        "val_loader = DataLoader(val_set, batch_size=batch_size, shuffle=False)"
      ],
      "metadata": {
        "execution": {
          "iopub.status.busy": "2023-03-21T09:12:00.381027Z",
          "iopub.execute_input": "2023-03-21T09:12:00.381416Z",
          "iopub.status.idle": "2023-03-21T09:12:26.041202Z",
          "shell.execute_reply.started": "2023-03-21T09:12:00.381376Z",
          "shell.execute_reply": "2023-03-21T09:12:26.040145Z"
        },
        "trusted": true,
        "id": "n3lA7U9v2xaL",
        "outputId": "0a8bb16f-0dcd-4f6c-c78c-af2adbf92f24"
      },
      "execution_count": null,
      "outputs": [
        {
          "name": "stdout",
          "text": "DEVICE: cuda\n[Dataset] - # phone classes: 41, number of utterances for train: 3257\n",
          "output_type": "stream"
        },
        {
          "name": "stderr",
          "text": "3257it [00:23, 141.01it/s]\n",
          "output_type": "stream"
        },
        {
          "name": "stdout",
          "text": "[INFO] train set\ntorch.Size([2010837, 39])\ntorch.Size([2010837])\n[Dataset] - # phone classes: 41, number of utterances for val: 172\n",
          "output_type": "stream"
        },
        {
          "name": "stderr",
          "text": "172it [00:01, 155.84it/s]\n",
          "output_type": "stream"
        },
        {
          "name": "stdout",
          "text": "[INFO] val set\ntorch.Size([105957, 39])\ntorch.Size([105957])\n",
          "output_type": "stream"
        }
      ]
    },
    {
      "cell_type": "code",
      "source": [
        "model = LSTMnet(in_dim=input_dim, hidden_dim=hidden_dim, n_layer=hidden_layers, n_class=41).to(device)\n",
        "print(model)"
      ],
      "metadata": {
        "execution": {
          "iopub.status.busy": "2023-03-21T09:12:26.042973Z",
          "iopub.execute_input": "2023-03-21T09:12:26.043720Z",
          "iopub.status.idle": "2023-03-21T09:12:29.594274Z",
          "shell.execute_reply.started": "2023-03-21T09:12:26.043678Z",
          "shell.execute_reply": "2023-03-21T09:12:29.593176Z"
        },
        "trusted": true,
        "id": "OqmF3NSc2xaM",
        "outputId": "62e40865-fd27-424d-ee3d-fbf4f7a93cf1"
      },
      "execution_count": null,
      "outputs": [
        {
          "name": "stdout",
          "text": "LSTMnet(\n  (lstm): LSTM(39, 280, num_layers=3, batch_first=True, dropout=0.45, bidirectional=True)\n  (fc): Sequential(\n    (0): BasicBlock(\n      (block): Sequential(\n        (0): Linear(in_features=560, out_features=280, bias=True)\n        (1): ReLU()\n        (2): BatchNorm1d(280, eps=1e-05, momentum=0.1, affine=True, track_running_stats=True)\n        (3): Dropout(p=0.45, inplace=False)\n      )\n    )\n    (1): BasicBlock(\n      (block): Sequential(\n        (0): Linear(in_features=280, out_features=280, bias=True)\n        (1): ReLU()\n        (2): BatchNorm1d(280, eps=1e-05, momentum=0.1, affine=True, track_running_stats=True)\n        (3): Dropout(p=0.45, inplace=False)\n      )\n    )\n    (2): Linear(in_features=280, out_features=41, bias=True)\n  )\n)\n",
          "output_type": "stream"
        }
      ]
    },
    {
      "cell_type": "code",
      "source": [
        "# create model, define a loss function, and optimizer\n",
        "\n",
        "criterion = nn.CrossEntropyLoss()\n",
        "optimizer = torch.optim.AdamW(model.parameters(), lr=learning_rate, weight_decay=0.02)\n",
        "#optimizer = torch.optim.Adam(model.parameters(), lr=learning_rate)\n",
        "#optimizer = torch.optim.SGD(model.parameters(), lr=learning_rate, momentum=0.9, weight_decay=8e-4)\n",
        "#lambda1 = lambda epoch: 0.1**int((epoch-1)/change_lr_epoch) ###if epoch > lr_epoch else 1\n",
        "#scheduler = torch.optim.lr_scheduler.LambdaLR(optimizer, lr_lambda = lambda1) \n",
        "#scheduler = torch.optim.lr_scheduler.CosineAnnealingWarmRestarts(optimizer, T_0=8, T_mult=2, eta_min=learning_rate/10) \n",
        "step_size = 20\n",
        "scheduler = torch.optim.lr_scheduler.StepLR(optimizer, step_size=step_size)\n",
        "\n",
        "best_acc = 0.0\n",
        "for epoch in range(num_epoch):\n",
        "    train_acc = 0.0\n",
        "    train_loss = 0.0\n",
        "    val_acc = 0.0\n",
        "    val_loss = 0.0\n",
        "    \n",
        "    print(\"lr = \"+str(scheduler.get_last_lr()[0])) \n",
        "    \n",
        "    # training\n",
        "    model.train() # set the model to training mode\n",
        "    for i, batch in enumerate(tqdm(train_loader)):\n",
        "        features, labels = batch\n",
        "        features = features.to(device)\n",
        "        #features = features.unsqueeze(0)\n",
        "        #print(features.size())\n",
        "        labels = labels.to(device)\n",
        "        \n",
        "        optimizer.zero_grad() \n",
        "        outputs = model(features) \n",
        "        \n",
        "        loss = criterion(outputs, labels)\n",
        "        loss.backward() \n",
        "        optimizer.step() \n",
        "        \n",
        "        _, train_pred = torch.max(outputs, 1) # get the index of the class with the highest probability\n",
        "        train_acc += (train_pred.detach() == labels.detach()).sum().item()\n",
        "        train_loss += loss.item()\n",
        "    \n",
        "    scheduler.step()\n",
        "    \n",
        "    # validation\n",
        "    model.eval() # set the model to evaluation mode\n",
        "    with torch.no_grad():\n",
        "        for i, batch in enumerate(tqdm(val_loader)):\n",
        "            features, labels = batch\n",
        "            features = features.to(device)\n",
        "            #features = features.unsqueeze(0)\n",
        "            labels = labels.to(device)\n",
        "            outputs = model(features)\n",
        "            \n",
        "            loss = criterion(outputs, labels) \n",
        "            \n",
        "            _, val_pred = torch.max(outputs, 1) \n",
        "            val_acc += (val_pred.cpu() == labels.cpu()).sum().item() # get the index of the class with the highest probability\n",
        "            val_loss += loss.item()\n",
        "\n",
        "    print(f'[{epoch+1:03d}/{num_epoch:03d}] Train Acc: {train_acc/len(train_set):3.5f} Loss: {train_loss/len(train_loader):3.5f} | Val Acc: {val_acc/len(val_set):3.5f} loss: {val_loss/len(val_loader):3.5f}')\n",
        "\n",
        "    if val_acc/len(val_set) > best_acc:\n",
        "        best_acc = val_acc/len(val_set)\n",
        "        torch.save(model.state_dict(), model_path)\n",
        "        print(f'saving model with acc {best_acc:.5f}')\n"
      ],
      "metadata": {
        "execution": {
          "iopub.status.busy": "2023-03-21T09:12:29.595761Z",
          "iopub.execute_input": "2023-03-21T09:12:29.597363Z",
          "iopub.status.idle": "2023-03-21T13:38:42.559238Z",
          "shell.execute_reply.started": "2023-03-21T09:12:29.597321Z",
          "shell.execute_reply": "2023-03-21T13:38:42.558173Z"
        },
        "trusted": true,
        "id": "39Nn9Mdn2xaN",
        "outputId": "8329bc92-2803-4c7f-95d3-cbace78c26e6"
      },
      "execution_count": null,
      "outputs": [
        {
          "name": "stdout",
          "text": "lr = 0.001\n",
          "output_type": "stream"
        },
        {
          "name": "stderr",
          "text": "100%|██████████| 1964/1964 [07:22<00:00,  4.43it/s]\n100%|██████████| 104/104 [00:10<00:00, 10.34it/s]\n",
          "output_type": "stream"
        },
        {
          "name": "stdout",
          "text": "[001/035] Train Acc: 0.60605 Loss: 1.34721 | Val Acc: 0.71872 loss: 0.92873\nsaving model with acc 0.71872\nlr = 0.001\n",
          "output_type": "stream"
        },
        {
          "name": "stderr",
          "text": "100%|██████████| 1964/1964 [07:27<00:00,  4.39it/s]\n100%|██████████| 104/104 [00:10<00:00, 10.28it/s]\n",
          "output_type": "stream"
        },
        {
          "name": "stdout",
          "text": "[002/035] Train Acc: 0.72396 Loss: 0.93444 | Val Acc: 0.76283 loss: 0.78502\nsaving model with acc 0.76283\nlr = 0.001\n",
          "output_type": "stream"
        },
        {
          "name": "stderr",
          "text": "100%|██████████| 1964/1964 [07:27<00:00,  4.39it/s]\n100%|██████████| 104/104 [00:10<00:00, 10.39it/s]\n",
          "output_type": "stream"
        },
        {
          "name": "stdout",
          "text": "[003/035] Train Acc: 0.76266 Loss: 0.79908 | Val Acc: 0.78070 loss: 0.72193\nsaving model with acc 0.78070\nlr = 0.001\n",
          "output_type": "stream"
        },
        {
          "name": "stderr",
          "text": "100%|██████████| 1964/1964 [07:25<00:00,  4.40it/s]\n100%|██████████| 104/104 [00:10<00:00, 10.26it/s]\n",
          "output_type": "stream"
        },
        {
          "name": "stdout",
          "text": "[004/035] Train Acc: 0.78771 Loss: 0.70929 | Val Acc: 0.78632 loss: 0.70672\nsaving model with acc 0.78632\nlr = 0.001\n",
          "output_type": "stream"
        },
        {
          "name": "stderr",
          "text": "100%|██████████| 1964/1964 [07:27<00:00,  4.38it/s]\n100%|██████████| 104/104 [00:10<00:00, 10.15it/s]\n",
          "output_type": "stream"
        },
        {
          "name": "stdout",
          "text": "[005/035] Train Acc: 0.80565 Loss: 0.64636 | Val Acc: 0.79799 loss: 0.68019\nsaving model with acc 0.79799\nlr = 0.001\n",
          "output_type": "stream"
        },
        {
          "name": "stderr",
          "text": "100%|██████████| 1964/1964 [07:26<00:00,  4.39it/s]\n100%|██████████| 104/104 [00:10<00:00, 10.22it/s]\n",
          "output_type": "stream"
        },
        {
          "name": "stdout",
          "text": "[006/035] Train Acc: 0.81958 Loss: 0.59726 | Val Acc: 0.80055 loss: 0.66899\nsaving model with acc 0.80055\nlr = 0.001\n",
          "output_type": "stream"
        },
        {
          "name": "stderr",
          "text": "100%|██████████| 1964/1964 [07:26<00:00,  4.40it/s]\n100%|██████████| 104/104 [00:10<00:00, 10.11it/s]\n",
          "output_type": "stream"
        },
        {
          "name": "stdout",
          "text": "[007/035] Train Acc: 0.83086 Loss: 0.55753 | Val Acc: 0.79784 loss: 0.68254\nlr = 0.001\n",
          "output_type": "stream"
        },
        {
          "name": "stderr",
          "text": "100%|██████████| 1964/1964 [07:26<00:00,  4.40it/s]\n100%|██████████| 104/104 [00:10<00:00,  9.97it/s]\n",
          "output_type": "stream"
        },
        {
          "name": "stdout",
          "text": "[008/035] Train Acc: 0.83975 Loss: 0.52605 | Val Acc: 0.80291 loss: 0.66472\nsaving model with acc 0.80291\nlr = 0.001\n",
          "output_type": "stream"
        },
        {
          "name": "stderr",
          "text": "100%|██████████| 1964/1964 [07:25<00:00,  4.40it/s]\n100%|██████████| 104/104 [00:10<00:00, 10.12it/s]\n",
          "output_type": "stream"
        },
        {
          "name": "stdout",
          "text": "[009/035] Train Acc: 0.84823 Loss: 0.49603 | Val Acc: 0.80760 loss: 0.66351\nsaving model with acc 0.80760\nlr = 0.001\n",
          "output_type": "stream"
        },
        {
          "name": "stderr",
          "text": "100%|██████████| 1964/1964 [07:28<00:00,  4.38it/s]\n100%|██████████| 104/104 [00:10<00:00, 10.23it/s]\n",
          "output_type": "stream"
        },
        {
          "name": "stdout",
          "text": "[010/035] Train Acc: 0.85367 Loss: 0.47545 | Val Acc: 0.81088 loss: 0.65623\nsaving model with acc 0.81088\nlr = 0.001\n",
          "output_type": "stream"
        },
        {
          "name": "stderr",
          "text": "100%|██████████| 1964/1964 [07:26<00:00,  4.40it/s]\n100%|██████████| 104/104 [00:10<00:00, 10.19it/s]\n",
          "output_type": "stream"
        },
        {
          "name": "stdout",
          "text": "[011/035] Train Acc: 0.85961 Loss: 0.45569 | Val Acc: 0.81292 loss: 0.65854\nsaving model with acc 0.81292\nlr = 0.001\n",
          "output_type": "stream"
        },
        {
          "name": "stderr",
          "text": "100%|██████████| 1964/1964 [07:25<00:00,  4.41it/s]\n100%|██████████| 104/104 [00:10<00:00, 10.13it/s]\n",
          "output_type": "stream"
        },
        {
          "name": "stdout",
          "text": "[012/035] Train Acc: 0.86373 Loss: 0.43947 | Val Acc: 0.81096 loss: 0.66782\nlr = 0.001\n",
          "output_type": "stream"
        },
        {
          "name": "stderr",
          "text": "100%|██████████| 1964/1964 [07:25<00:00,  4.41it/s]\n100%|██████████| 104/104 [00:10<00:00, 10.33it/s]\n",
          "output_type": "stream"
        },
        {
          "name": "stdout",
          "text": "[013/035] Train Acc: 0.86758 Loss: 0.42551 | Val Acc: 0.81067 loss: 0.66429\nlr = 0.001\n",
          "output_type": "stream"
        },
        {
          "name": "stderr",
          "text": "100%|██████████| 1964/1964 [07:25<00:00,  4.41it/s]\n100%|██████████| 104/104 [00:10<00:00, 10.14it/s]\n",
          "output_type": "stream"
        },
        {
          "name": "stdout",
          "text": "[014/035] Train Acc: 0.87262 Loss: 0.40778 | Val Acc: 0.81091 loss: 0.67541\nlr = 0.001\n",
          "output_type": "stream"
        },
        {
          "name": "stderr",
          "text": "100%|██████████| 1964/1964 [07:26<00:00,  4.40it/s]\n100%|██████████| 104/104 [00:10<00:00, 10.17it/s]\n",
          "output_type": "stream"
        },
        {
          "name": "stdout",
          "text": "[015/035] Train Acc: 0.87495 Loss: 0.39922 | Val Acc: 0.81041 loss: 0.67446\nlr = 0.001\n",
          "output_type": "stream"
        },
        {
          "name": "stderr",
          "text": "100%|██████████| 1964/1964 [07:24<00:00,  4.42it/s]\n100%|██████████| 104/104 [00:10<00:00, 10.32it/s]\n",
          "output_type": "stream"
        },
        {
          "name": "stdout",
          "text": "[016/035] Train Acc: 0.87763 Loss: 0.38916 | Val Acc: 0.81170 loss: 0.67873\nlr = 0.001\n",
          "output_type": "stream"
        },
        {
          "name": "stderr",
          "text": "100%|██████████| 1964/1964 [07:26<00:00,  4.40it/s]\n100%|██████████| 104/104 [00:10<00:00, 10.15it/s]\n",
          "output_type": "stream"
        },
        {
          "name": "stdout",
          "text": "[017/035] Train Acc: 0.87969 Loss: 0.38192 | Val Acc: 0.81161 loss: 0.67945\nlr = 0.001\n",
          "output_type": "stream"
        },
        {
          "name": "stderr",
          "text": "100%|██████████| 1964/1964 [07:26<00:00,  4.40it/s]\n100%|██████████| 104/104 [00:10<00:00, 10.30it/s]\n",
          "output_type": "stream"
        },
        {
          "name": "stdout",
          "text": "[018/035] Train Acc: 0.88336 Loss: 0.36837 | Val Acc: 0.81224 loss: 0.67580\nlr = 0.001\n",
          "output_type": "stream"
        },
        {
          "name": "stderr",
          "text": "100%|██████████| 1964/1964 [07:24<00:00,  4.42it/s]\n100%|██████████| 104/104 [00:10<00:00, 10.19it/s]\n",
          "output_type": "stream"
        },
        {
          "name": "stdout",
          "text": "[019/035] Train Acc: 0.88359 Loss: 0.36631 | Val Acc: 0.81492 loss: 0.67186\nsaving model with acc 0.81492\nlr = 0.001\n",
          "output_type": "stream"
        },
        {
          "name": "stderr",
          "text": "100%|██████████| 1964/1964 [07:26<00:00,  4.40it/s]\n100%|██████████| 104/104 [00:10<00:00, 10.16it/s]\n",
          "output_type": "stream"
        },
        {
          "name": "stdout",
          "text": "[020/035] Train Acc: 0.88678 Loss: 0.35607 | Val Acc: 0.81520 loss: 0.68532\nsaving model with acc 0.81520\nlr = 0.0001\n",
          "output_type": "stream"
        },
        {
          "name": "stderr",
          "text": "100%|██████████| 1964/1964 [07:26<00:00,  4.40it/s]\n100%|██████████| 104/104 [00:10<00:00, 10.28it/s]\n",
          "output_type": "stream"
        },
        {
          "name": "stdout",
          "text": "[021/035] Train Acc: 0.90509 Loss: 0.29308 | Val Acc: 0.82898 loss: 0.66548\nsaving model with acc 0.82898\nlr = 0.0001\n",
          "output_type": "stream"
        },
        {
          "name": "stderr",
          "text": "100%|██████████| 1964/1964 [07:24<00:00,  4.42it/s]\n100%|██████████| 104/104 [00:10<00:00, 10.24it/s]\n",
          "output_type": "stream"
        },
        {
          "name": "stdout",
          "text": "[022/035] Train Acc: 0.91682 Loss: 0.25358 | Val Acc: 0.83164 loss: 0.67574\nsaving model with acc 0.83164\nlr = 0.0001\n",
          "output_type": "stream"
        },
        {
          "name": "stderr",
          "text": "100%|██████████| 1964/1964 [07:25<00:00,  4.41it/s]\n100%|██████████| 104/104 [00:10<00:00, 10.17it/s]\n",
          "output_type": "stream"
        },
        {
          "name": "stdout",
          "text": "[023/035] Train Acc: 0.92291 Loss: 0.23397 | Val Acc: 0.83151 loss: 0.68870\nlr = 0.0001\n",
          "output_type": "stream"
        },
        {
          "name": "stderr",
          "text": "100%|██████████| 1964/1964 [07:26<00:00,  4.40it/s]\n100%|██████████| 104/104 [00:10<00:00, 10.30it/s]\n",
          "output_type": "stream"
        },
        {
          "name": "stdout",
          "text": "[024/035] Train Acc: 0.92628 Loss: 0.22092 | Val Acc: 0.83255 loss: 0.69897\nsaving model with acc 0.83255\nlr = 0.0001\n",
          "output_type": "stream"
        },
        {
          "name": "stderr",
          "text": "100%|██████████| 1964/1964 [07:25<00:00,  4.40it/s]\n100%|██████████| 104/104 [00:10<00:00, 10.26it/s]\n",
          "output_type": "stream"
        },
        {
          "name": "stdout",
          "text": "[025/035] Train Acc: 0.92973 Loss: 0.20987 | Val Acc: 0.83250 loss: 0.70980\nlr = 0.0001\n",
          "output_type": "stream"
        },
        {
          "name": "stderr",
          "text": "100%|██████████| 1964/1964 [07:27<00:00,  4.39it/s]\n100%|██████████| 104/104 [00:10<00:00, 10.28it/s]\n",
          "output_type": "stream"
        },
        {
          "name": "stdout",
          "text": "[026/035] Train Acc: 0.93218 Loss: 0.20081 | Val Acc: 0.83226 loss: 0.71802\nlr = 0.0001\n",
          "output_type": "stream"
        },
        {
          "name": "stderr",
          "text": "100%|██████████| 1964/1964 [07:26<00:00,  4.40it/s]\n100%|██████████| 104/104 [00:10<00:00, 10.22it/s]\n",
          "output_type": "stream"
        },
        {
          "name": "stdout",
          "text": "[027/035] Train Acc: 0.93453 Loss: 0.19290 | Val Acc: 0.83087 loss: 0.73013\nlr = 0.0001\n",
          "output_type": "stream"
        },
        {
          "name": "stderr",
          "text": "100%|██████████| 1964/1964 [07:25<00:00,  4.41it/s]\n100%|██████████| 104/104 [00:10<00:00, 10.24it/s]\n",
          "output_type": "stream"
        },
        {
          "name": "stdout",
          "text": "[028/035] Train Acc: 0.93633 Loss: 0.18570 | Val Acc: 0.83142 loss: 0.73795\nlr = 0.0001\n",
          "output_type": "stream"
        },
        {
          "name": "stderr",
          "text": "100%|██████████| 1964/1964 [07:27<00:00,  4.39it/s]\n100%|██████████| 104/104 [00:10<00:00, 10.30it/s]\n",
          "output_type": "stream"
        },
        {
          "name": "stdout",
          "text": "[029/035] Train Acc: 0.93813 Loss: 0.17982 | Val Acc: 0.83225 loss: 0.74708\nlr = 0.0001\n",
          "output_type": "stream"
        },
        {
          "name": "stderr",
          "text": "100%|██████████| 1964/1964 [07:26<00:00,  4.40it/s]\n100%|██████████| 104/104 [00:10<00:00, 10.19it/s]\n",
          "output_type": "stream"
        },
        {
          "name": "stdout",
          "text": "[030/035] Train Acc: 0.93982 Loss: 0.17420 | Val Acc: 0.83224 loss: 0.75110\nlr = 0.0001\n",
          "output_type": "stream"
        },
        {
          "name": "stderr",
          "text": "100%|██████████| 1964/1964 [07:25<00:00,  4.41it/s]\n100%|██████████| 104/104 [00:10<00:00, 10.26it/s]\n",
          "output_type": "stream"
        },
        {
          "name": "stdout",
          "text": "[031/035] Train Acc: 0.94157 Loss: 0.16835 | Val Acc: 0.83161 loss: 0.76262\nlr = 0.0001\n",
          "output_type": "stream"
        },
        {
          "name": "stderr",
          "text": "100%|██████████| 1964/1964 [07:27<00:00,  4.39it/s]\n100%|██████████| 104/104 [00:10<00:00, 10.17it/s]\n",
          "output_type": "stream"
        },
        {
          "name": "stdout",
          "text": "[032/035] Train Acc: 0.94302 Loss: 0.16318 | Val Acc: 0.83071 loss: 0.76713\nlr = 0.0001\n",
          "output_type": "stream"
        },
        {
          "name": "stderr",
          "text": "100%|██████████| 1964/1964 [07:26<00:00,  4.40it/s]\n100%|██████████| 104/104 [00:10<00:00, 10.20it/s]\n",
          "output_type": "stream"
        },
        {
          "name": "stdout",
          "text": "[033/035] Train Acc: 0.94444 Loss: 0.15825 | Val Acc: 0.83332 loss: 0.77104\nsaving model with acc 0.83332\nlr = 0.0001\n",
          "output_type": "stream"
        },
        {
          "name": "stderr",
          "text": "100%|██████████| 1964/1964 [07:25<00:00,  4.41it/s]\n100%|██████████| 104/104 [00:10<00:00, 10.33it/s]\n",
          "output_type": "stream"
        },
        {
          "name": "stdout",
          "text": "[034/035] Train Acc: 0.94581 Loss: 0.15371 | Val Acc: 0.83178 loss: 0.78224\nlr = 0.0001\n",
          "output_type": "stream"
        },
        {
          "name": "stderr",
          "text": "100%|██████████| 1964/1964 [07:27<00:00,  4.39it/s]\n100%|██████████| 104/104 [00:10<00:00, 10.20it/s]",
          "output_type": "stream"
        },
        {
          "name": "stdout",
          "text": "[035/035] Train Acc: 0.94705 Loss: 0.14908 | Val Acc: 0.83172 loss: 0.79697\n",
          "output_type": "stream"
        },
        {
          "name": "stderr",
          "text": "\n",
          "output_type": "stream"
        }
      ]
    },
    {
      "cell_type": "code",
      "source": [
        "del train_set, val_set\n",
        "del train_loader, val_loader\n",
        "gc.collect()"
      ],
      "metadata": {
        "execution": {
          "iopub.status.busy": "2023-03-21T13:38:42.560794Z",
          "iopub.execute_input": "2023-03-21T13:38:42.562368Z",
          "iopub.status.idle": "2023-03-21T13:38:42.698213Z",
          "shell.execute_reply.started": "2023-03-21T13:38:42.562329Z",
          "shell.execute_reply": "2023-03-21T13:38:42.697144Z"
        },
        "trusted": true,
        "id": "SUc1N2eA2xaN",
        "outputId": "d9018c9b-9ea9-429e-ca92-643d873d5d4b"
      },
      "execution_count": null,
      "outputs": [
        {
          "execution_count": 9,
          "output_type": "execute_result",
          "data": {
            "text/plain": "23"
          },
          "metadata": {}
        }
      ]
    },
    {
      "cell_type": "code",
      "source": [
        "# load data\n",
        "test_X = preprocess_data(split='test', feat_dir='/kaggle/input/ml2023spring-hw2/libriphone/feat', phone_path='/kaggle/input/ml2023spring-hw2/libriphone', concat_nframes=concat_nframes)\n",
        "test_set = LibriDataset(test_X, None)\n",
        "test_loader = DataLoader(test_set, batch_size=batch_size, shuffle=False)"
      ],
      "metadata": {
        "execution": {
          "iopub.status.busy": "2023-03-21T13:38:42.701519Z",
          "iopub.execute_input": "2023-03-21T13:38:42.701927Z",
          "iopub.status.idle": "2023-03-21T13:38:48.441688Z",
          "shell.execute_reply.started": "2023-03-21T13:38:42.701897Z",
          "shell.execute_reply": "2023-03-21T13:38:48.440632Z"
        },
        "trusted": true,
        "id": "6Mf-0YWa2xaO",
        "outputId": "2a5bf788-9e99-438c-b4b7-fd15b0059a95"
      },
      "execution_count": null,
      "outputs": [
        {
          "name": "stdout",
          "text": "[Dataset] - # phone classes: 41, number of utterances for test: 857\n",
          "output_type": "stream"
        },
        {
          "name": "stderr",
          "text": "857it [00:05, 150.05it/s]",
          "output_type": "stream"
        },
        {
          "name": "stdout",
          "text": "[INFO] test set\ntorch.Size([527364, 39])\n",
          "output_type": "stream"
        },
        {
          "name": "stderr",
          "text": "\n",
          "output_type": "stream"
        }
      ]
    },
    {
      "cell_type": "code",
      "source": [
        "# load model\n",
        "model = LSTMnet(in_dim=input_dim, hidden_dim=hidden_dim, n_layer=hidden_layers, n_class=41).to(device)\n",
        "model.load_state_dict(torch.load(model_path))"
      ],
      "metadata": {
        "execution": {
          "iopub.status.busy": "2023-03-21T13:38:48.443332Z",
          "iopub.execute_input": "2023-03-21T13:38:48.443985Z",
          "iopub.status.idle": "2023-03-21T13:38:48.510451Z",
          "shell.execute_reply.started": "2023-03-21T13:38:48.443943Z",
          "shell.execute_reply": "2023-03-21T13:38:48.509292Z"
        },
        "trusted": true,
        "id": "PaZxI5rB2xaO",
        "outputId": "f4d0a016-4f0a-4151-f9ee-2eb349eabd3a"
      },
      "execution_count": null,
      "outputs": [
        {
          "execution_count": 11,
          "output_type": "execute_result",
          "data": {
            "text/plain": "<All keys matched successfully>"
          },
          "metadata": {}
        }
      ]
    },
    {
      "cell_type": "code",
      "source": [
        "pred = np.array([], dtype=np.int32)\n",
        "\n",
        "model.eval()\n",
        "with torch.no_grad():\n",
        "    for i, batch in enumerate(tqdm(test_loader)):\n",
        "        features = batch\n",
        "        features = features.to(device)\n",
        "\n",
        "        outputs = model(features)\n",
        "\n",
        "        _, test_pred = torch.max(outputs, 1) # get the index of the class with the highest probability\n",
        "        pred = np.concatenate((pred, test_pred.cpu().numpy()), axis=0)"
      ],
      "metadata": {
        "execution": {
          "iopub.status.busy": "2023-03-21T13:38:48.512037Z",
          "iopub.execute_input": "2023-03-21T13:38:48.512442Z",
          "iopub.status.idle": "2023-03-21T13:39:38.278651Z",
          "shell.execute_reply.started": "2023-03-21T13:38:48.512402Z",
          "shell.execute_reply": "2023-03-21T13:39:38.277582Z"
        },
        "trusted": true,
        "id": "FZofrFZ22xaO",
        "outputId": "09d56954-0415-4329-bd32-8a97c20b650b"
      },
      "execution_count": null,
      "outputs": [
        {
          "name": "stderr",
          "text": "100%|██████████| 516/516 [00:49<00:00, 10.37it/s]\n",
          "output_type": "stream"
        }
      ]
    },
    {
      "cell_type": "code",
      "source": [
        "with open('prediction_new.csv', 'w') as f:\n",
        "    f.write('Id,Class\\n')\n",
        "    for i, y in enumerate(pred):\n",
        "        f.write('{},{}\\n'.format(i, y))"
      ],
      "metadata": {
        "execution": {
          "iopub.status.busy": "2023-03-21T13:39:38.281149Z",
          "iopub.execute_input": "2023-03-21T13:39:38.281925Z",
          "iopub.status.idle": "2023-03-21T13:39:38.681548Z",
          "shell.execute_reply.started": "2023-03-21T13:39:38.281884Z",
          "shell.execute_reply": "2023-03-21T13:39:38.680474Z"
        },
        "trusted": true,
        "id": "IQvU-Qnc2xaP"
      },
      "execution_count": null,
      "outputs": []
    }
  ]
}