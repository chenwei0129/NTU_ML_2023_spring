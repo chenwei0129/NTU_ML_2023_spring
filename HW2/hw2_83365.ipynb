{
  "metadata": {
    "kernelspec": {
      "language": "python",
      "display_name": "Python 3",
      "name": "python3"
    },
    "language_info": {
      "name": "python",
      "version": "3.7.12",
      "mimetype": "text/x-python",
      "codemirror_mode": {
        "name": "ipython",
        "version": 3
      },
      "pygments_lexer": "ipython3",
      "nbconvert_exporter": "python",
      "file_extension": ".py"
    },
    "colab": {
      "provenance": []
    }
  },
  "nbformat_minor": 0,
  "nbformat": 4,
  "cells": [
    {
      "cell_type": "code",
      "source": [
        "import numpy as np\n",
        "import torch\n",
        "import random\n",
        "\n",
        "def same_seeds(seed):\n",
        "    random.seed(seed) \n",
        "    np.random.seed(seed)  \n",
        "    torch.manual_seed(seed)\n",
        "    if torch.cuda.is_available():\n",
        "        torch.cuda.manual_seed(seed)\n",
        "        torch.cuda.manual_seed_all(seed) \n",
        "    torch.backends.cudnn.benchmark = False\n",
        "    torch.backends.cudnn.deterministic = True"
      ],
      "metadata": {
        "_uuid": "8f2839f25d086af736a60e9eeb907d3b93b6e0e5",
        "_cell_guid": "b1076dfc-b9ad-4769-8c92-a6c4dae69d19",
        "execution": {
          "iopub.status.busy": "2023-03-19T01:22:18.689086Z",
          "iopub.execute_input": "2023-03-19T01:22:18.689680Z",
          "iopub.status.idle": "2023-03-19T01:22:18.695719Z",
          "shell.execute_reply.started": "2023-03-19T01:22:18.689643Z",
          "shell.execute_reply": "2023-03-19T01:22:18.694665Z"
        },
        "trusted": true,
        "id": "XenXuLon2yj8"
      },
      "execution_count": null,
      "outputs": []
    },
    {
      "cell_type": "code",
      "source": [
        "import os\n",
        "import torch\n",
        "from tqdm import tqdm\n",
        "\n",
        "def load_feat(path):\n",
        "    feat = torch.load(path)\n",
        "    return feat\n",
        "\n",
        "def shift(x, n):\n",
        "    if n < 0:\n",
        "        left = x[0].repeat(-n, 1)\n",
        "        right = x[:n]\n",
        "    elif n > 0:\n",
        "        right = x[-1].repeat(n, 1)\n",
        "        left = x[n:]\n",
        "    else:\n",
        "        return x\n",
        "\n",
        "    return torch.cat((left, right), dim=0)\n",
        "\n",
        "def concat_feat(x, concat_n):\n",
        "    assert concat_n % 2 == 1 # n must be odd\n",
        "    if concat_n < 2:\n",
        "        return x\n",
        "    seq_len, feature_dim = x.size(0), x.size(1)\n",
        "    x = x.repeat(1, concat_n) \n",
        "    x = x.view(seq_len, concat_n, feature_dim).permute(1, 0, 2) # concat_n, seq_len, feature_dim\n",
        "    mid = (concat_n // 2)\n",
        "    for r_idx in range(1, mid+1):\n",
        "        x[mid + r_idx, :] = shift(x[mid + r_idx], r_idx)\n",
        "        x[mid - r_idx, :] = shift(x[mid - r_idx], -r_idx)\n",
        "\n",
        "    return x.permute(1, 0, 2).view(seq_len, concat_n * feature_dim)\n",
        "\n",
        "def preprocess_data(split, feat_dir, phone_path, concat_nframes, train_ratio=0.8, random_seed=1213):\n",
        "    class_num = 41 # NOTE: pre-computed, should not need change\n",
        "\n",
        "    if split == 'train' or split == 'val':\n",
        "        mode = 'train'\n",
        "    elif split == 'test':\n",
        "        mode = 'test'\n",
        "    else:\n",
        "        raise ValueError('Invalid \\'split\\' argument for dataset: PhoneDataset!')\n",
        "\n",
        "    label_dict = {}\n",
        "    if mode == 'train':\n",
        "        for line in open(os.path.join(phone_path, f'{mode}_labels.txt')).readlines():\n",
        "            line = line.strip('\\n').split(' ')\n",
        "            label_dict[line[0]] = [int(p) for p in line[1:]]\n",
        "        \n",
        "        # split training and validation data\n",
        "        usage_list = open(os.path.join(phone_path, 'train_split.txt')).readlines()\n",
        "        #random.seed(random_seed)\n",
        "        #random.shuffle(usage_list)\n",
        "        train_len = int(len(usage_list) * train_ratio)\n",
        "        usage_list = usage_list[:train_len] if split == 'train' else usage_list[train_len:]\n",
        "\n",
        "    elif mode == 'test':\n",
        "        usage_list = open(os.path.join(phone_path, 'test_split.txt')).readlines()\n",
        "\n",
        "    usage_list = [line.strip('\\n') for line in usage_list]\n",
        "    print('[Dataset] - # phone classes: ' + str(class_num) + ', number of utterances for ' + split + ': ' + str(len(usage_list)))\n",
        "\n",
        "    max_len = 3000000\n",
        "    X = torch.empty(max_len, 39 * concat_nframes)\n",
        "    if mode == 'train':\n",
        "        y = torch.empty(max_len, dtype=torch.long)\n",
        "\n",
        "    idx = 0\n",
        "    for i, fname in tqdm(enumerate(usage_list)):\n",
        "        feat = load_feat(os.path.join(feat_dir, mode, f'{fname}.pt'))\n",
        "        cur_len = len(feat)\n",
        "        feat = concat_feat(feat, concat_nframes)\n",
        "        if mode == 'train':\n",
        "          label = torch.LongTensor(label_dict[fname])\n",
        "\n",
        "        X[idx: idx + cur_len, :] = feat\n",
        "        if mode == 'train':\n",
        "          y[idx: idx + cur_len] = label\n",
        "\n",
        "        idx += cur_len\n",
        "\n",
        "    X = X[:idx, :]\n",
        "    if mode == 'train':\n",
        "      y = y[:idx]\n",
        "\n",
        "    print(f'[INFO] {split} set')\n",
        "    print(X.shape)\n",
        "    if mode == 'train':\n",
        "      print(y.shape)\n",
        "      return X, y\n",
        "    else:\n",
        "      return X\n"
      ],
      "metadata": {
        "execution": {
          "iopub.status.busy": "2023-03-19T01:22:33.812546Z",
          "iopub.execute_input": "2023-03-19T01:22:33.813072Z",
          "iopub.status.idle": "2023-03-19T01:22:33.830828Z",
          "shell.execute_reply.started": "2023-03-19T01:22:33.813034Z",
          "shell.execute_reply": "2023-03-19T01:22:33.829763Z"
        },
        "trusted": true,
        "id": "BUyHMkX_2yj-"
      },
      "execution_count": null,
      "outputs": []
    },
    {
      "cell_type": "code",
      "source": [
        "import torch\n",
        "from torch.utils.data import Dataset\n",
        "\n",
        "class LibriDataset(Dataset):\n",
        "    def __init__(self, X, y=None):\n",
        "        self.data = X\n",
        "        if y is not None:\n",
        "            self.label = torch.LongTensor(y)\n",
        "        else:\n",
        "            self.label = None\n",
        "\n",
        "    def __getitem__(self, idx):\n",
        "        if self.label is not None:\n",
        "            return self.data[idx], self.label[idx]\n",
        "        else:\n",
        "            return self.data[idx]\n",
        "\n",
        "    def __len__(self):\n",
        "        return len(self.data)"
      ],
      "metadata": {
        "execution": {
          "iopub.status.busy": "2023-03-19T01:22:36.310910Z",
          "iopub.execute_input": "2023-03-19T01:22:36.311278Z",
          "iopub.status.idle": "2023-03-19T01:22:36.318454Z",
          "shell.execute_reply.started": "2023-03-19T01:22:36.311245Z",
          "shell.execute_reply": "2023-03-19T01:22:36.317178Z"
        },
        "trusted": true,
        "id": "oPSugLrR2yj_"
      },
      "execution_count": null,
      "outputs": []
    },
    {
      "cell_type": "code",
      "source": [
        "import torch.nn as nn\n",
        "\n",
        "class BasicBlock(nn.Module):\n",
        "    def __init__(self, input_dim, output_dim):\n",
        "        super(BasicBlock, self).__init__()\n",
        "\n",
        "        # TODO: apply batch normalization and dropout for strong baseline.\n",
        "        # Reference: https://pytorch.org/docs/stable/generated/torch.nn.BatchNorm1d.html (batch normalization)\n",
        "        #       https://pytorch.org/docs/stable/generated/torch.nn.Dropout.html (dropout)\n",
        "        self.block = nn.Sequential(\n",
        "            nn.Linear(input_dim, output_dim),\n",
        "            nn.ReLU(),\n",
        "            nn.BatchNorm1d(output_dim),\n",
        "            nn.Dropout(0.5)\n",
        "        )\n",
        "\n",
        "    def forward(self, x):\n",
        "        x = self.block(x)\n",
        "        return x\n",
        "\n",
        "##ref:https://www.cnblogs.com/picassooo/p/12556293.html\n",
        "class LSTMnet(nn.Module):\n",
        "    def __init__(self, in_dim, hidden_dim, n_layer, n_class):\n",
        "        super(LSTMnet, self).__init__()\n",
        "        self.n_layer = n_layer\n",
        "        self.hidden_dim = hidden_dim\n",
        "        self.lstm = nn.LSTM(in_dim, hidden_dim, 3, batch_first=True, dropout=0.5, bidirectional=True)\n",
        "        self.fc = nn.Sequential(\n",
        "            BasicBlock(2*hidden_dim, hidden_dim),\n",
        "            *[BasicBlock(hidden_dim, hidden_dim) for _ in range(hidden_layers)],\n",
        "            nn.Linear(hidden_dim, n_class)\n",
        "        )\n",
        " \n",
        "    def forward(self, x):\n",
        "        out, _ = self.lstm(x)\n",
        "        out = self.fc(out)\n",
        "        return out\n",
        "\n",
        "\n",
        "class Classifier(nn.Module):\n",
        "    def __init__(self, input_dim, output_dim=41, hidden_layers=1, hidden_dim=256):\n",
        "        super(Classifier, self).__init__()\n",
        "\n",
        "        self.fc = nn.Sequential(\n",
        "            BasicBlock(input_dim, hidden_dim),\n",
        "            *[BasicBlock(hidden_dim, hidden_dim) for _ in range(hidden_layers)],\n",
        "            nn.Linear(hidden_dim, output_dim)\n",
        "        )\n",
        "\n",
        "    def forward(self, x):\n",
        "        x = self.fc(x)\n",
        "        return x\n"
      ],
      "metadata": {
        "execution": {
          "iopub.status.busy": "2023-03-19T01:03:14.898192Z",
          "iopub.execute_input": "2023-03-19T01:03:14.898717Z",
          "iopub.status.idle": "2023-03-19T01:03:14.911105Z",
          "shell.execute_reply.started": "2023-03-19T01:03:14.898680Z",
          "shell.execute_reply": "2023-03-19T01:03:14.910091Z"
        },
        "trusted": true,
        "id": "I4UrxFSh2yj_"
      },
      "execution_count": null,
      "outputs": []
    },
    {
      "cell_type": "code",
      "source": [
        "# data prarameters\n",
        "# TODO: change the value of \"concat_nframes\" for medium baseline\n",
        "concat_nframes = 1   # the number of frames to concat with, n must be odd (total 2k+1 = n frames)\n",
        "train_ratio = 0.95   # the ratio of data used for training, the rest will be used for validation\n",
        "\n",
        "# training parameters\n",
        "seed = 910226          # random seed\n",
        "batch_size = 1024        # batch size\n",
        "num_epoch = 35         # the number of training epoch\n",
        "change_lr_epoch = 30\n",
        "learning_rate = 1e-3      # learning rate\n",
        "model_path = './model.ckpt'  # the path where the checkpoint will be saved\n",
        "\n",
        "# model parameters\n",
        "# TODO: change the value of \"hidden_layers\" or \"hidden_dim\" for medium baseline\n",
        "input_dim = 39 * concat_nframes  # the input dim of the model, you should not change the value\n",
        "hidden_layers = 1          # the number of hidden layers\n",
        "hidden_dim = 300           # the hidden dim\n"
      ],
      "metadata": {
        "execution": {
          "iopub.status.busy": "2023-03-19T03:48:16.017977Z",
          "iopub.execute_input": "2023-03-19T03:48:16.018357Z",
          "iopub.status.idle": "2023-03-19T03:48:16.024801Z",
          "shell.execute_reply.started": "2023-03-19T03:48:16.018321Z",
          "shell.execute_reply": "2023-03-19T03:48:16.023514Z"
        },
        "trusted": true,
        "id": "LU1kHAI_2ykA"
      },
      "execution_count": null,
      "outputs": []
    },
    {
      "cell_type": "code",
      "source": [
        "from torch.utils.data import DataLoader\n",
        "import gc\n",
        "\n",
        "same_seeds(seed)\n",
        "device = 'cuda' if torch.cuda.is_available() else 'cpu'\n",
        "print(f'DEVICE: {device}')\n",
        "\n",
        "# preprocess data\n",
        "train_X, train_y = preprocess_data(split='train', feat_dir='/kaggle/input/ml2023spring-hw2/libriphone/feat', phone_path='/kaggle/input/ml2023spring-hw2/libriphone', concat_nframes=concat_nframes, train_ratio=train_ratio, random_seed=seed)\n",
        "val_X, val_y = preprocess_data(split='val', feat_dir='/kaggle/input/ml2023spring-hw2/libriphone/feat', phone_path='/kaggle/input/ml2023spring-hw2/libriphone', concat_nframes=concat_nframes, train_ratio=train_ratio, random_seed=seed)\n",
        "\n",
        "# get dataset\n",
        "train_set = LibriDataset(train_X, train_y)\n",
        "val_set = LibriDataset(val_X, val_y)\n",
        "\n",
        "# remove raw feature to save memory\n",
        "del train_X, train_y, val_X, val_y\n",
        "gc.collect()\n",
        "\n",
        "# get dataloader\n",
        "train_loader = DataLoader(train_set, batch_size=batch_size, shuffle=False)\n",
        "val_loader = DataLoader(val_set, batch_size=batch_size, shuffle=False)"
      ],
      "metadata": {
        "execution": {
          "iopub.status.busy": "2023-03-19T01:03:14.970547Z",
          "iopub.execute_input": "2023-03-19T01:03:14.971624Z",
          "iopub.status.idle": "2023-03-19T01:03:38.821225Z",
          "shell.execute_reply.started": "2023-03-19T01:03:14.971579Z",
          "shell.execute_reply": "2023-03-19T01:03:38.820160Z"
        },
        "trusted": true,
        "id": "qKLOP0Co2ykA",
        "outputId": "cf763eec-7066-489c-fa9e-c8f22c7c1ec9"
      },
      "execution_count": null,
      "outputs": [
        {
          "name": "stdout",
          "text": "DEVICE: cuda\n[Dataset] - # phone classes: 41, number of utterances for train: 3257\n",
          "output_type": "stream"
        },
        {
          "name": "stderr",
          "text": "3257it [00:21, 151.47it/s]\n",
          "output_type": "stream"
        },
        {
          "name": "stdout",
          "text": "[INFO] train set\ntorch.Size([2010837, 39])\ntorch.Size([2010837])\n[Dataset] - # phone classes: 41, number of utterances for val: 172\n",
          "output_type": "stream"
        },
        {
          "name": "stderr",
          "text": "172it [00:01, 153.18it/s]\n",
          "output_type": "stream"
        },
        {
          "name": "stdout",
          "text": "[INFO] val set\ntorch.Size([105957, 39])\ntorch.Size([105957])\n",
          "output_type": "stream"
        }
      ]
    },
    {
      "cell_type": "code",
      "source": [
        "model = LSTMnet(in_dim=input_dim, hidden_dim=hidden_dim, n_layer=hidden_layers, n_class=41).to(device)\n",
        "print(model)"
      ],
      "metadata": {
        "execution": {
          "iopub.status.busy": "2023-03-19T03:48:19.924322Z",
          "iopub.execute_input": "2023-03-19T03:48:19.924839Z",
          "iopub.status.idle": "2023-03-19T03:48:20.012878Z",
          "shell.execute_reply.started": "2023-03-19T03:48:19.924774Z",
          "shell.execute_reply": "2023-03-19T03:48:20.011760Z"
        },
        "trusted": true,
        "id": "ILDzrrvO2ykB",
        "outputId": "e43487b1-f4c5-420f-d331-697a90700e10"
      },
      "execution_count": null,
      "outputs": [
        {
          "name": "stdout",
          "text": "LSTMnet(\n  (lstm): LSTM(39, 300, num_layers=3, batch_first=True, dropout=0.5, bidirectional=True)\n  (fc): Sequential(\n    (0): BasicBlock(\n      (block): Sequential(\n        (0): Linear(in_features=600, out_features=300, bias=True)\n        (1): ReLU()\n        (2): BatchNorm1d(300, eps=1e-05, momentum=0.1, affine=True, track_running_stats=True)\n        (3): Dropout(p=0.5, inplace=False)\n      )\n    )\n    (1): BasicBlock(\n      (block): Sequential(\n        (0): Linear(in_features=300, out_features=300, bias=True)\n        (1): ReLU()\n        (2): BatchNorm1d(300, eps=1e-05, momentum=0.1, affine=True, track_running_stats=True)\n        (3): Dropout(p=0.5, inplace=False)\n      )\n    )\n    (2): Linear(in_features=300, out_features=41, bias=True)\n  )\n)\n",
          "output_type": "stream"
        }
      ]
    },
    {
      "cell_type": "code",
      "source": [
        "# create model, define a loss function, and optimizer\n",
        "\n",
        "criterion = nn.CrossEntropyLoss()\n",
        "optimizer = torch.optim.AdamW(model.parameters(), lr=learning_rate, weight_decay=0.025)\n",
        "#optimizer = torch.optim.Adam(model.parameters(), lr=learning_rate)\n",
        "#optimizer = torch.optim.SGD(model.parameters(), lr=learning_rate, momentum=0.9, weight_decay=8e-4)\n",
        "#lambda1 = lambda epoch: 0.1**int((epoch-1)/change_lr_epoch) ###if epoch > lr_epoch else 1\n",
        "#scheduler = torch.optim.lr_scheduler.LambdaLR(optimizer, lr_lambda = lambda1) \n",
        "#scheduler = torch.optim.lr_scheduler.CosineAnnealingWarmRestarts(optimizer, T_0=8, T_mult=2, eta_min=learning_rate/10) \n",
        "step_size = 20\n",
        "scheduler = torch.optim.lr_scheduler.StepLR(optimizer, step_size=step_size)\n",
        "\n",
        "best_acc = 0.0\n",
        "for epoch in range(num_epoch):\n",
        "    train_acc = 0.0\n",
        "    train_loss = 0.0\n",
        "    val_acc = 0.0\n",
        "    val_loss = 0.0\n",
        "    \n",
        "    print(\"lr = \"+str(scheduler.get_last_lr()[0])) \n",
        "    \n",
        "    # training\n",
        "    model.train() # set the model to training mode\n",
        "    for i, batch in enumerate(tqdm(train_loader)):\n",
        "        features, labels = batch\n",
        "        features = features.to(device)\n",
        "        #features = features.unsqueeze(0)\n",
        "        #print(features.size())\n",
        "        labels = labels.to(device)\n",
        "        \n",
        "        optimizer.zero_grad() \n",
        "        outputs = model(features) \n",
        "        \n",
        "        loss = criterion(outputs, labels)\n",
        "        loss.backward() \n",
        "        optimizer.step() \n",
        "        \n",
        "        _, train_pred = torch.max(outputs, 1) # get the index of the class with the highest probability\n",
        "        train_acc += (train_pred.detach() == labels.detach()).sum().item()\n",
        "        train_loss += loss.item()\n",
        "    \n",
        "    scheduler.step()\n",
        "    \n",
        "    # validation\n",
        "    model.eval() # set the model to evaluation mode\n",
        "    with torch.no_grad():\n",
        "        for i, batch in enumerate(tqdm(val_loader)):\n",
        "            features, labels = batch\n",
        "            features = features.to(device)\n",
        "            #features = features.unsqueeze(0)\n",
        "            labels = labels.to(device)\n",
        "            outputs = model(features)\n",
        "            \n",
        "            loss = criterion(outputs, labels) \n",
        "            \n",
        "            _, val_pred = torch.max(outputs, 1) \n",
        "            val_acc += (val_pred.cpu() == labels.cpu()).sum().item() # get the index of the class with the highest probability\n",
        "            val_loss += loss.item()\n",
        "\n",
        "    print(f'[{epoch+1:03d}/{num_epoch:03d}] Train Acc: {train_acc/len(train_set):3.5f} Loss: {train_loss/len(train_loader):3.5f} | Val Acc: {val_acc/len(val_set):3.5f} loss: {val_loss/len(val_loader):3.5f}')\n",
        "\n",
        "    if val_acc/len(val_set) > best_acc:\n",
        "        best_acc = val_acc/len(val_set)\n",
        "        torch.save(model.state_dict(), model_path)\n",
        "        print(f'saving model with acc {best_acc:.5f}')\n"
      ],
      "metadata": {
        "execution": {
          "iopub.status.busy": "2023-03-19T03:48:23.181125Z",
          "iopub.execute_input": "2023-03-19T03:48:23.181573Z",
          "iopub.status.idle": "2023-03-19T08:34:19.853487Z",
          "shell.execute_reply.started": "2023-03-19T03:48:23.181537Z",
          "shell.execute_reply": "2023-03-19T08:34:19.852397Z"
        },
        "trusted": true,
        "id": "iBhIskiE2ykB",
        "outputId": "0c8f2a50-28f0-4351-cf30-7f6b0114e4fa"
      },
      "execution_count": null,
      "outputs": [
        {
          "name": "stdout",
          "text": "lr = 0.001\n",
          "output_type": "stream"
        },
        {
          "name": "stderr",
          "text": "100%|██████████| 1964/1964 [07:59<00:00,  4.10it/s]\n100%|██████████| 104/104 [00:11<00:00,  9.45it/s]\n",
          "output_type": "stream"
        },
        {
          "name": "stdout",
          "text": "[001/035] Train Acc: 0.60257 Loss: 1.36547 | Val Acc: 0.71970 loss: 0.93950\nsaving model with acc 0.71970\nlr = 0.001\n",
          "output_type": "stream"
        },
        {
          "name": "stderr",
          "text": "100%|██████████| 1964/1964 [07:59<00:00,  4.09it/s]\n100%|██████████| 104/104 [00:11<00:00,  9.32it/s]\n",
          "output_type": "stream"
        },
        {
          "name": "stdout",
          "text": "[002/035] Train Acc: 0.72095 Loss: 0.95067 | Val Acc: 0.76539 loss: 0.78206\nsaving model with acc 0.76539\nlr = 0.001\n",
          "output_type": "stream"
        },
        {
          "name": "stderr",
          "text": "100%|██████████| 1964/1964 [08:00<00:00,  4.09it/s]\n100%|██████████| 104/104 [00:11<00:00,  9.22it/s]\n",
          "output_type": "stream"
        },
        {
          "name": "stdout",
          "text": "[003/035] Train Acc: 0.75939 Loss: 0.81419 | Val Acc: 0.77963 loss: 0.73120\nsaving model with acc 0.77963\nlr = 0.001\n",
          "output_type": "stream"
        },
        {
          "name": "stderr",
          "text": "100%|██████████| 1964/1964 [08:01<00:00,  4.08it/s]\n100%|██████████| 104/104 [00:10<00:00,  9.46it/s]\n",
          "output_type": "stream"
        },
        {
          "name": "stdout",
          "text": "[004/035] Train Acc: 0.78433 Loss: 0.72598 | Val Acc: 0.78764 loss: 0.70649\nsaving model with acc 0.78764\nlr = 0.001\n",
          "output_type": "stream"
        },
        {
          "name": "stderr",
          "text": "100%|██████████| 1964/1964 [08:00<00:00,  4.09it/s]\n100%|██████████| 104/104 [00:11<00:00,  9.42it/s]\n",
          "output_type": "stream"
        },
        {
          "name": "stdout",
          "text": "[005/035] Train Acc: 0.80129 Loss: 0.66661 | Val Acc: 0.79168 loss: 0.69191\nsaving model with acc 0.79168\nlr = 0.001\n",
          "output_type": "stream"
        },
        {
          "name": "stderr",
          "text": "100%|██████████| 1964/1964 [07:59<00:00,  4.09it/s]\n100%|██████████| 104/104 [00:11<00:00,  9.14it/s]\n",
          "output_type": "stream"
        },
        {
          "name": "stdout",
          "text": "[006/035] Train Acc: 0.81558 Loss: 0.61473 | Val Acc: 0.79984 loss: 0.66290\nsaving model with acc 0.79984\nlr = 0.001\n",
          "output_type": "stream"
        },
        {
          "name": "stderr",
          "text": "100%|██████████| 1964/1964 [07:59<00:00,  4.10it/s]\n100%|██████████| 104/104 [00:11<00:00,  9.19it/s]\n",
          "output_type": "stream"
        },
        {
          "name": "stdout",
          "text": "[007/035] Train Acc: 0.82599 Loss: 0.57637 | Val Acc: 0.80011 loss: 0.67863\nsaving model with acc 0.80011\nlr = 0.001\n",
          "output_type": "stream"
        },
        {
          "name": "stderr",
          "text": "100%|██████████| 1964/1964 [07:58<00:00,  4.10it/s]\n100%|██████████| 104/104 [00:11<00:00,  9.17it/s]\n",
          "output_type": "stream"
        },
        {
          "name": "stdout",
          "text": "[008/035] Train Acc: 0.83474 Loss: 0.54577 | Val Acc: 0.80368 loss: 0.65995\nsaving model with acc 0.80368\nlr = 0.001\n",
          "output_type": "stream"
        },
        {
          "name": "stderr",
          "text": "100%|██████████| 1964/1964 [07:58<00:00,  4.10it/s]\n100%|██████████| 104/104 [00:11<00:00,  9.30it/s]\n",
          "output_type": "stream"
        },
        {
          "name": "stdout",
          "text": "[009/035] Train Acc: 0.84298 Loss: 0.51750 | Val Acc: 0.80664 loss: 0.65821\nsaving model with acc 0.80664\nlr = 0.001\n",
          "output_type": "stream"
        },
        {
          "name": "stderr",
          "text": "100%|██████████| 1964/1964 [07:58<00:00,  4.10it/s]\n100%|██████████| 104/104 [00:11<00:00,  9.24it/s]\n",
          "output_type": "stream"
        },
        {
          "name": "stdout",
          "text": "[010/035] Train Acc: 0.84891 Loss: 0.49501 | Val Acc: 0.80521 loss: 0.66697\nlr = 0.001\n",
          "output_type": "stream"
        },
        {
          "name": "stderr",
          "text": "100%|██████████| 1964/1964 [07:58<00:00,  4.10it/s]\n100%|██████████| 104/104 [00:11<00:00,  9.16it/s]\n",
          "output_type": "stream"
        },
        {
          "name": "stdout",
          "text": "[011/035] Train Acc: 0.85470 Loss: 0.47452 | Val Acc: 0.80549 loss: 0.67179\nlr = 0.001\n",
          "output_type": "stream"
        },
        {
          "name": "stderr",
          "text": "100%|██████████| 1964/1964 [07:59<00:00,  4.09it/s]\n100%|██████████| 104/104 [00:11<00:00,  9.28it/s]\n",
          "output_type": "stream"
        },
        {
          "name": "stdout",
          "text": "[012/035] Train Acc: 0.85872 Loss: 0.45960 | Val Acc: 0.80835 loss: 0.66435\nsaving model with acc 0.80835\nlr = 0.001\n",
          "output_type": "stream"
        },
        {
          "name": "stderr",
          "text": "100%|██████████| 1964/1964 [07:59<00:00,  4.10it/s]\n100%|██████████| 104/104 [00:11<00:00,  9.33it/s]\n",
          "output_type": "stream"
        },
        {
          "name": "stdout",
          "text": "[013/035] Train Acc: 0.86280 Loss: 0.44515 | Val Acc: 0.80860 loss: 0.67495\nsaving model with acc 0.80860\nlr = 0.001\n",
          "output_type": "stream"
        },
        {
          "name": "stderr",
          "text": "100%|██████████| 1964/1964 [07:58<00:00,  4.10it/s]\n100%|██████████| 104/104 [00:11<00:00,  9.24it/s]\n",
          "output_type": "stream"
        },
        {
          "name": "stdout",
          "text": "[014/035] Train Acc: 0.86686 Loss: 0.43014 | Val Acc: 0.80854 loss: 0.68092\nlr = 0.001\n",
          "output_type": "stream"
        },
        {
          "name": "stderr",
          "text": "100%|██████████| 1964/1964 [07:58<00:00,  4.11it/s]\n100%|██████████| 104/104 [00:11<00:00,  9.28it/s]\n",
          "output_type": "stream"
        },
        {
          "name": "stdout",
          "text": "[015/035] Train Acc: 0.86865 Loss: 0.42471 | Val Acc: 0.80731 loss: 0.67911\nlr = 0.001\n",
          "output_type": "stream"
        },
        {
          "name": "stderr",
          "text": "100%|██████████| 1964/1964 [07:58<00:00,  4.11it/s]\n100%|██████████| 104/104 [00:11<00:00,  9.30it/s]\n",
          "output_type": "stream"
        },
        {
          "name": "stdout",
          "text": "[016/035] Train Acc: 0.87150 Loss: 0.41287 | Val Acc: 0.80971 loss: 0.67838\nsaving model with acc 0.80971\nlr = 0.001\n",
          "output_type": "stream"
        },
        {
          "name": "stderr",
          "text": "100%|██████████| 1964/1964 [07:58<00:00,  4.10it/s]\n100%|██████████| 104/104 [00:11<00:00,  9.33it/s]\n",
          "output_type": "stream"
        },
        {
          "name": "stdout",
          "text": "[017/035] Train Acc: 0.87491 Loss: 0.40147 | Val Acc: 0.80745 loss: 0.68329\nlr = 0.001\n",
          "output_type": "stream"
        },
        {
          "name": "stderr",
          "text": "100%|██████████| 1964/1964 [07:58<00:00,  4.10it/s]\n100%|██████████| 104/104 [00:11<00:00,  9.37it/s]\n",
          "output_type": "stream"
        },
        {
          "name": "stdout",
          "text": "[018/035] Train Acc: 0.87626 Loss: 0.39572 | Val Acc: 0.80819 loss: 0.70146\nlr = 0.001\n",
          "output_type": "stream"
        },
        {
          "name": "stderr",
          "text": "100%|██████████| 1964/1964 [07:58<00:00,  4.11it/s]\n100%|██████████| 104/104 [00:11<00:00,  9.24it/s]\n",
          "output_type": "stream"
        },
        {
          "name": "stdout",
          "text": "[019/035] Train Acc: 0.87866 Loss: 0.38688 | Val Acc: 0.80927 loss: 0.68236\nlr = 0.001\n",
          "output_type": "stream"
        },
        {
          "name": "stderr",
          "text": "100%|██████████| 1964/1964 [07:58<00:00,  4.10it/s]\n100%|██████████| 104/104 [00:11<00:00,  9.27it/s]\n",
          "output_type": "stream"
        },
        {
          "name": "stdout",
          "text": "[020/035] Train Acc: 0.88039 Loss: 0.37958 | Val Acc: 0.81117 loss: 0.69172\nsaving model with acc 0.81117\nlr = 0.0001\n",
          "output_type": "stream"
        },
        {
          "name": "stderr",
          "text": "100%|██████████| 1964/1964 [07:58<00:00,  4.10it/s]\n100%|██████████| 104/104 [00:11<00:00,  9.39it/s]\n",
          "output_type": "stream"
        },
        {
          "name": "stdout",
          "text": "[021/035] Train Acc: 0.90154 Loss: 0.30848 | Val Acc: 0.82427 loss: 0.67040\nsaving model with acc 0.82427\nlr = 0.0001\n",
          "output_type": "stream"
        },
        {
          "name": "stderr",
          "text": "100%|██████████| 1964/1964 [07:58<00:00,  4.10it/s]\n100%|██████████| 104/104 [00:11<00:00,  9.20it/s]\n",
          "output_type": "stream"
        },
        {
          "name": "stdout",
          "text": "[022/035] Train Acc: 0.91328 Loss: 0.26856 | Val Acc: 0.82602 loss: 0.67685\nsaving model with acc 0.82602\nlr = 0.0001\n",
          "output_type": "stream"
        },
        {
          "name": "stderr",
          "text": "100%|██████████| 1964/1964 [07:58<00:00,  4.10it/s]\n100%|██████████| 104/104 [00:11<00:00,  9.28it/s]\n",
          "output_type": "stream"
        },
        {
          "name": "stdout",
          "text": "[023/035] Train Acc: 0.91869 Loss: 0.24995 | Val Acc: 0.82758 loss: 0.68650\nsaving model with acc 0.82758\nlr = 0.0001\n",
          "output_type": "stream"
        },
        {
          "name": "stderr",
          "text": "100%|██████████| 1964/1964 [07:58<00:00,  4.10it/s]\n100%|██████████| 104/104 [00:11<00:00,  9.29it/s]\n",
          "output_type": "stream"
        },
        {
          "name": "stdout",
          "text": "[024/035] Train Acc: 0.92293 Loss: 0.23539 | Val Acc: 0.82872 loss: 0.69581\nsaving model with acc 0.82872\nlr = 0.0001\n",
          "output_type": "stream"
        },
        {
          "name": "stderr",
          "text": "100%|██████████| 1964/1964 [07:58<00:00,  4.10it/s]\n100%|██████████| 104/104 [00:11<00:00,  9.23it/s]\n",
          "output_type": "stream"
        },
        {
          "name": "stdout",
          "text": "[025/035] Train Acc: 0.92609 Loss: 0.22401 | Val Acc: 0.82832 loss: 0.71039\nlr = 0.0001\n",
          "output_type": "stream"
        },
        {
          "name": "stderr",
          "text": "100%|██████████| 1964/1964 [07:59<00:00,  4.10it/s]\n100%|██████████| 104/104 [00:11<00:00,  9.42it/s]\n",
          "output_type": "stream"
        },
        {
          "name": "stdout",
          "text": "[026/035] Train Acc: 0.92873 Loss: 0.21496 | Val Acc: 0.82789 loss: 0.71407\nlr = 0.0001\n",
          "output_type": "stream"
        },
        {
          "name": "stderr",
          "text": "100%|██████████| 1964/1964 [07:58<00:00,  4.10it/s]\n100%|██████████| 104/104 [00:11<00:00,  9.22it/s]\n",
          "output_type": "stream"
        },
        {
          "name": "stdout",
          "text": "[027/035] Train Acc: 0.93073 Loss: 0.20729 | Val Acc: 0.82803 loss: 0.72451\nlr = 0.0001\n",
          "output_type": "stream"
        },
        {
          "name": "stderr",
          "text": "100%|██████████| 1964/1964 [07:58<00:00,  4.11it/s]\n100%|██████████| 104/104 [00:11<00:00,  9.25it/s]\n",
          "output_type": "stream"
        },
        {
          "name": "stdout",
          "text": "[028/035] Train Acc: 0.93299 Loss: 0.19912 | Val Acc: 0.82760 loss: 0.73689\nlr = 0.0001\n",
          "output_type": "stream"
        },
        {
          "name": "stderr",
          "text": "100%|██████████| 1964/1964 [07:58<00:00,  4.10it/s]\n100%|██████████| 104/104 [00:11<00:00,  9.13it/s]\n",
          "output_type": "stream"
        },
        {
          "name": "stdout",
          "text": "[029/035] Train Acc: 0.93469 Loss: 0.19333 | Val Acc: 0.82874 loss: 0.74343\nsaving model with acc 0.82874\nlr = 0.0001\n",
          "output_type": "stream"
        },
        {
          "name": "stderr",
          "text": "100%|██████████| 1964/1964 [07:59<00:00,  4.10it/s]\n100%|██████████| 104/104 [00:11<00:00,  9.30it/s]\n",
          "output_type": "stream"
        },
        {
          "name": "stdout",
          "text": "[030/035] Train Acc: 0.93661 Loss: 0.18641 | Val Acc: 0.82750 loss: 0.76095\nlr = 0.0001\n",
          "output_type": "stream"
        },
        {
          "name": "stderr",
          "text": "100%|██████████| 1964/1964 [07:58<00:00,  4.10it/s]\n100%|██████████| 104/104 [00:11<00:00,  9.32it/s]\n",
          "output_type": "stream"
        },
        {
          "name": "stdout",
          "text": "[031/035] Train Acc: 0.93819 Loss: 0.18052 | Val Acc: 0.82691 loss: 0.76973\nlr = 0.0001\n",
          "output_type": "stream"
        },
        {
          "name": "stderr",
          "text": "100%|██████████| 1964/1964 [07:58<00:00,  4.10it/s]\n100%|██████████| 104/104 [00:11<00:00,  9.27it/s]\n",
          "output_type": "stream"
        },
        {
          "name": "stdout",
          "text": "[032/035] Train Acc: 0.94022 Loss: 0.17425 | Val Acc: 0.82850 loss: 0.77524\nlr = 0.0001\n",
          "output_type": "stream"
        },
        {
          "name": "stderr",
          "text": "100%|██████████| 1964/1964 [07:59<00:00,  4.10it/s]\n100%|██████████| 104/104 [00:11<00:00,  9.24it/s]\n",
          "output_type": "stream"
        },
        {
          "name": "stdout",
          "text": "[033/035] Train Acc: 0.94142 Loss: 0.16931 | Val Acc: 0.82728 loss: 0.78848\nlr = 0.0001\n",
          "output_type": "stream"
        },
        {
          "name": "stderr",
          "text": "100%|██████████| 1964/1964 [07:58<00:00,  4.11it/s]\n100%|██████████| 104/104 [00:11<00:00,  9.35it/s]\n",
          "output_type": "stream"
        },
        {
          "name": "stdout",
          "text": "[034/035] Train Acc: 0.94291 Loss: 0.16494 | Val Acc: 0.82882 loss: 0.78501\nsaving model with acc 0.82882\nlr = 0.0001\n",
          "output_type": "stream"
        },
        {
          "name": "stderr",
          "text": "100%|██████████| 1964/1964 [07:59<00:00,  4.10it/s]\n100%|██████████| 104/104 [00:11<00:00,  9.27it/s]",
          "output_type": "stream"
        },
        {
          "name": "stdout",
          "text": "[035/035] Train Acc: 0.94424 Loss: 0.15966 | Val Acc: 0.82856 loss: 0.79001\n",
          "output_type": "stream"
        },
        {
          "name": "stderr",
          "text": "\n",
          "output_type": "stream"
        }
      ]
    },
    {
      "cell_type": "code",
      "source": [
        "del train_set, val_set\n",
        "del train_loader, val_loader\n",
        "gc.collect()"
      ],
      "metadata": {
        "execution": {
          "iopub.status.busy": "2023-03-19T08:34:30.863851Z",
          "iopub.execute_input": "2023-03-19T08:34:30.864214Z",
          "iopub.status.idle": "2023-03-19T08:34:31.008212Z",
          "shell.execute_reply.started": "2023-03-19T08:34:30.864182Z",
          "shell.execute_reply": "2023-03-19T08:34:31.007198Z"
        },
        "trusted": true,
        "id": "9OGJLcEp2ykC",
        "outputId": "ff7d2121-c9bb-4dd6-cef0-ad9f050a750b"
      },
      "execution_count": null,
      "outputs": [
        {
          "execution_count": 36,
          "output_type": "execute_result",
          "data": {
            "text/plain": "76"
          },
          "metadata": {}
        }
      ]
    },
    {
      "cell_type": "code",
      "source": [
        "# load data\n",
        "test_X = preprocess_data(split='test', feat_dir='/kaggle/input/ml2023spring-hw2/libriphone/feat', phone_path='/kaggle/input/ml2023spring-hw2/libriphone', concat_nframes=concat_nframes)\n",
        "test_set = LibriDataset(test_X, None)\n",
        "test_loader = DataLoader(test_set, batch_size=batch_size, shuffle=False)"
      ],
      "metadata": {
        "execution": {
          "iopub.status.busy": "2023-03-19T08:34:34.403098Z",
          "iopub.execute_input": "2023-03-19T08:34:34.403605Z",
          "iopub.status.idle": "2023-03-19T08:34:39.144245Z",
          "shell.execute_reply.started": "2023-03-19T08:34:34.403554Z",
          "shell.execute_reply": "2023-03-19T08:34:39.143199Z"
        },
        "trusted": true,
        "id": "oNARUSVM2ykC",
        "outputId": "30a5536e-3574-4749-cd2d-fee784dc9b03"
      },
      "execution_count": null,
      "outputs": [
        {
          "name": "stdout",
          "text": "[Dataset] - # phone classes: 41, number of utterances for test: 857\n",
          "output_type": "stream"
        },
        {
          "name": "stderr",
          "text": "857it [00:04, 181.57it/s]",
          "output_type": "stream"
        },
        {
          "name": "stdout",
          "text": "[INFO] test set\ntorch.Size([527364, 39])\n",
          "output_type": "stream"
        },
        {
          "name": "stderr",
          "text": "\n",
          "output_type": "stream"
        }
      ]
    },
    {
      "cell_type": "code",
      "source": [
        "# load model\n",
        "model = LSTMnet(in_dim=input_dim, hidden_dim=hidden_dim, n_layer=hidden_layers, n_class=41).to(device)\n",
        "model.load_state_dict(torch.load(model_path))"
      ],
      "metadata": {
        "execution": {
          "iopub.status.busy": "2023-03-19T08:35:54.681431Z",
          "iopub.execute_input": "2023-03-19T08:35:54.681897Z",
          "iopub.status.idle": "2023-03-19T08:35:54.790512Z",
          "shell.execute_reply.started": "2023-03-19T08:35:54.681855Z",
          "shell.execute_reply": "2023-03-19T08:35:54.789394Z"
        },
        "trusted": true,
        "id": "V-mx5Awi2ykD",
        "outputId": "a25769a3-2048-4150-dac9-f9a434b72efe"
      },
      "execution_count": null,
      "outputs": [
        {
          "execution_count": 40,
          "output_type": "execute_result",
          "data": {
            "text/plain": "<All keys matched successfully>"
          },
          "metadata": {}
        }
      ]
    },
    {
      "cell_type": "code",
      "source": [
        "pred = np.array([], dtype=np.int32)\n",
        "\n",
        "model.eval()\n",
        "with torch.no_grad():\n",
        "    for i, batch in enumerate(tqdm(test_loader)):\n",
        "        features = batch\n",
        "        features = features.to(device)\n",
        "\n",
        "        outputs = model(features)\n",
        "\n",
        "        _, test_pred = torch.max(outputs, 1) # get the index of the class with the highest probability\n",
        "        pred = np.concatenate((pred, test_pred.cpu().numpy()), axis=0)"
      ],
      "metadata": {
        "execution": {
          "iopub.status.busy": "2023-03-19T08:36:00.998144Z",
          "iopub.execute_input": "2023-03-19T08:36:00.998534Z",
          "iopub.status.idle": "2023-03-19T08:36:54.672416Z",
          "shell.execute_reply.started": "2023-03-19T08:36:00.998498Z",
          "shell.execute_reply": "2023-03-19T08:36:54.671363Z"
        },
        "trusted": true,
        "id": "Sz4v31KK2ykD",
        "outputId": "ba9d75f0-788e-4857-b5c9-74b6ce0be3b5"
      },
      "execution_count": null,
      "outputs": [
        {
          "name": "stderr",
          "text": "100%|██████████| 516/516 [00:53<00:00,  9.62it/s]\n",
          "output_type": "stream"
        }
      ]
    },
    {
      "cell_type": "code",
      "source": [
        "with open('prediction_new.csv', 'w') as f:\n",
        "    f.write('Id,Class\\n')\n",
        "    for i, y in enumerate(pred):\n",
        "        f.write('{},{}\\n'.format(i, y))"
      ],
      "metadata": {
        "execution": {
          "iopub.status.busy": "2023-03-19T08:37:44.998365Z",
          "iopub.execute_input": "2023-03-19T08:37:44.999246Z",
          "iopub.status.idle": "2023-03-19T08:37:45.391000Z",
          "shell.execute_reply.started": "2023-03-19T08:37:44.999210Z",
          "shell.execute_reply": "2023-03-19T08:37:45.389962Z"
        },
        "trusted": true,
        "id": "NeWPwy-b2ykD"
      },
      "execution_count": null,
      "outputs": []
    }
  ]
}